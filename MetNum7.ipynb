{
 "cells": [
  {
   "cell_type": "markdown",
   "id": "aa03bb56",
   "metadata": {},
   "source": [
    "#### Interpolación Numérica"
   ]
  },
  {
   "cell_type": "markdown",
   "id": "50f1cac6",
   "metadata": {},
   "source": [
    "Nuestro objetivo de la lección será el obtener datos de puntos que estén entre otros dados. O también hacer pasar funciones por ciertos puntos dados."
   ]
  },
  {
   "cell_type": "markdown",
   "id": "db19b929",
   "metadata": {},
   "source": [
    "Las funciones más simples que podemos hacer pasar por puntos dados son las funciones polinomiales."
   ]
  },
  {
   "cell_type": "markdown",
   "id": "eaa4be0a",
   "metadata": {},
   "source": [
    "Dados $n+1$ puntos queremos hacer pasar un polinomio de grado $n$ por esos puntos."
   ]
  },
  {
   "cell_type": "markdown",
   "id": "e5739bdf",
   "metadata": {},
   "source": [
    "¿Como podemos hacer que por esos $n+1$ puntos pase un polinomio de grado $n$?"
   ]
  },
  {
   "cell_type": "markdown",
   "id": "cb5e03b3",
   "metadata": {},
   "source": [
    "Inspiremonos de la recta $ax+b$\n",
    "$$\\begin{bmatrix} x_1&1\\\\x_2&1\\end{bmatrix}\\begin{bmatrix}a\\\\b\\end{bmatrix}=\\begin{bmatrix}y_1\\\\y_2\\end{bmatrix}$$"
   ]
  },
  {
   "cell_type": "markdown",
   "id": "bef32cc0",
   "metadata": {},
   "source": [
    "El valor de $a$ y $b$ queda completamente determinado resolviendo el sistema y tiene una unica solución si $x_1\\neq x_2$"
   ]
  },
  {
   "cell_type": "markdown",
   "id": "d07a894a",
   "metadata": {},
   "source": [
    "Nuestra primera idea sería construir una matriz\n",
    "$$\\begin{bmatrix}x_1^{n-1}&...&x_1^0\\\\\\vdots &...&\\vdots\\\\ x_n^{n-1}&...&x_1^0\\end{bmatrix}\\begin{bmatrix}a_1\\\\\\vdots \\\\a_n\\end{bmatrix}=\\begin{bmatrix}y_1\\\\\\vdots \\\\y_n\\end{bmatrix}$$"
   ]
  },
  {
   "cell_type": "markdown",
   "id": "5252333b",
   "metadata": {},
   "source": [
    "Entonces los coeficientes del polinomio están dados por los valores de $(x_1,y_1),...,(x_n,y_n)$"
   ]
  },
  {
   "cell_type": "markdown",
   "id": "5c8413aa",
   "metadata": {},
   "source": [
    "Y la solución es única si $x_i\\neq x_j$ para $i\\neq j$"
   ]
  },
  {
   "cell_type": "markdown",
   "id": "109b80b9",
   "metadata": {},
   "source": [
    "Veamos como podemos hacer pasar un polinomio por dichos puntos"
   ]
  },
  {
   "cell_type": "code",
   "execution_count": 66,
   "id": "400e27d3",
   "metadata": {},
   "outputs": [],
   "source": [
    "import numpy as np\n",
    "def PoliInt(x,y):\n",
    "    n=len(x)\n",
    "    A=np.zeros((n,n))\n",
    "    for i in range(n):\n",
    "        A[:,n-1-i]=x**i\n",
    "    print(A)\n",
    "    a=np.linalg.solve(A,y)\n",
    "    return a      "
   ]
  },
  {
   "cell_type": "markdown",
   "id": "3d81640e",
   "metadata": {},
   "source": [
    "Ej: veamos la recta que pasa por los puntos $(x_1,y_1)=(1,2)$ y $(x_2,y_2)=(3,-1)$"
   ]
  },
  {
   "cell_type": "code",
   "execution_count": 64,
   "id": "845ba16e",
   "metadata": {},
   "outputs": [
    {
     "name": "stdout",
     "output_type": "stream",
     "text": [
      "[1 3]\n"
     ]
    },
    {
     "data": {
      "text/plain": [
       "array([ 2, -1])"
      ]
     },
     "execution_count": 64,
     "metadata": {},
     "output_type": "execute_result"
    }
   ],
   "source": [
    "x=np.array([1,3])\n",
    "print(x)\n",
    "y=np.array([2,-1])\n",
    "y"
   ]
  },
  {
   "cell_type": "code",
   "execution_count": 67,
   "id": "58834d95",
   "metadata": {},
   "outputs": [
    {
     "name": "stdout",
     "output_type": "stream",
     "text": [
      "[[1. 1.]\n",
      " [3. 1.]]\n"
     ]
    },
    {
     "data": {
      "text/plain": [
       "array([-1.5,  3.5])"
      ]
     },
     "execution_count": 67,
     "metadata": {},
     "output_type": "execute_result"
    }
   ],
   "source": [
    "PoliInt(x,y)"
   ]
  },
  {
   "cell_type": "code",
   "execution_count": 68,
   "id": "81ef8d56",
   "metadata": {},
   "outputs": [
    {
     "data": {
      "text/plain": [
       "array([ 2., -1.])"
      ]
     },
     "execution_count": 68,
     "metadata": {},
     "output_type": "execute_result"
    }
   ],
   "source": [
    "-1.5*x+3.5"
   ]
  },
  {
   "cell_type": "markdown",
   "id": "77b98658",
   "metadata": {},
   "source": [
    "Podemos hacerlo tranquilamente para cualquier grupo de puntos que tengan en valores en $x$ diferente."
   ]
  },
  {
   "cell_type": "markdown",
   "id": "5180f6ca",
   "metadata": {},
   "source": [
    "Ej: Que pase por los puntos $(0,-1)$, $(-1,-6)$,$(1,4)$, $(2,27)$"
   ]
  },
  {
   "cell_type": "code",
   "execution_count": 69,
   "id": "e3df0ad0",
   "metadata": {},
   "outputs": [],
   "source": [
    "x=np.array([-1,0,1,2])\n",
    "y=np.array([-6,-1,4,27])\n"
   ]
  },
  {
   "cell_type": "code",
   "execution_count": 70,
   "id": "a4560305",
   "metadata": {},
   "outputs": [
    {
     "name": "stdout",
     "output_type": "stream",
     "text": [
      "[[-1.  1. -1.  1.]\n",
      " [ 0.  0.  0.  1.]\n",
      " [ 1.  1.  1.  1.]\n",
      " [ 8.  4.  2.  1.]]\n"
     ]
    },
    {
     "data": {
      "text/plain": [
       "array([ 3.,  0.,  2., -1.])"
      ]
     },
     "execution_count": 70,
     "metadata": {},
     "output_type": "execute_result"
    }
   ],
   "source": [
    "PoliInt(x,y)"
   ]
  },
  {
   "cell_type": "markdown",
   "id": "eb787e95",
   "metadata": {},
   "source": [
    "El polinomio es $3x^3+2x-1$"
   ]
  },
  {
   "cell_type": "markdown",
   "id": "661ceb6b",
   "metadata": {},
   "source": [
    "Podemos hacer para cualquier valor aleatorio. \n",
    "\n",
    "Tarea: Darse 4 puntos y calcular el polinomio de interpolación. "
   ]
  },
  {
   "cell_type": "markdown",
   "id": "6cef95bd",
   "metadata": {},
   "source": [
    "#### Metodo de Lagrange\n"
   ]
  },
  {
   "cell_type": "markdown",
   "id": "a20ae5c6",
   "metadata": {},
   "source": [
    "Vamos a considerar las funciones\n",
    "$$l_i(x)=\\left\\{\\begin{array}{rcl}0, &x=x_j, j\\neq i\\\\ 1, &x=x_i \\end{array}\\right.$$"
   ]
  },
  {
   "cell_type": "markdown",
   "id": "5569752d",
   "metadata": {},
   "source": [
    "Las funciones que hacen esto son\n",
    "$$l_i(x)=\\prod_{j=0, j\\neq i }^n\\frac{x-x_j}{x_i-x_j}$$"
   ]
  },
  {
   "cell_type": "markdown",
   "id": "4bd3c9a0",
   "metadata": {},
   "source": [
    "Rem: Para todos los valores $x_j$ tenemos \n",
    "$$l_i(x_j)=0$$\n",
    "y \n",
    "$$l_i(x_i)=1$$"
   ]
  },
  {
   "cell_type": "markdown",
   "id": "80e5c3de",
   "metadata": {},
   "source": [
    "La idea de Lagrange es muy sencilla, simplemente sumamos estas funciones características de Lagrange y la unica que va a importar en un punto $x_i$ dado será $l_i$ y en consecuencia basta multiplicar por $y_i$ para hacer que el polinomio pase por el punto $(x_i,y_i)$"
   ]
  },
  {
   "cell_type": "markdown",
   "id": "34b36db7",
   "metadata": {},
   "source": [
    "Es decir que la formula de Lagrange será\n",
    "$$p(x)=\\sum_{i=0}^n l_i(x)y_i$$"
   ]
  },
  {
   "cell_type": "code",
   "execution_count": 1,
   "id": "5f32cf4a",
   "metadata": {},
   "outputs": [],
   "source": [
    "import sympy as sy"
   ]
  },
  {
   "cell_type": "code",
   "execution_count": 2,
   "id": "477b66bc",
   "metadata": {},
   "outputs": [],
   "source": [
    "x=sy.symbols('x')"
   ]
  },
  {
   "cell_type": "code",
   "execution_count": 3,
   "id": "a9ea4fd3",
   "metadata": {},
   "outputs": [
    {
     "data": {
      "text/latex": [
       "$\\displaystyle \\frac{\\left(x - 2\\right) \\left(x - 1\\right) \\left(x + 1\\right)}{2}$"
      ],
      "text/plain": [
       "(x - 2)*(x - 1)*(x + 1)/2"
      ]
     },
     "execution_count": 3,
     "metadata": {},
     "output_type": "execute_result"
    }
   ],
   "source": [
    "l0=(x+1)*(x-1)*(x-2)/(0+1)/(0-1)/(0-2)\n",
    "l0"
   ]
  },
  {
   "cell_type": "code",
   "execution_count": 5,
   "id": "076b27cc",
   "metadata": {},
   "outputs": [
    {
     "data": {
      "text/latex": [
       "$\\displaystyle \\frac{x^{3}}{2} - x^{2} - \\frac{x}{2} + 1$"
      ],
      "text/plain": [
       "x**3/2 - x**2 - x/2 + 1"
      ]
     },
     "execution_count": 5,
     "metadata": {},
     "output_type": "execute_result"
    }
   ],
   "source": [
    "sy.expand(l0)"
   ]
  },
  {
   "cell_type": "markdown",
   "id": "9589b1ad",
   "metadata": {},
   "source": [
    "Nuestro primer polinomio característico de Lagrange es  \n",
    "$$l_0(x)=\\frac{x^3}{2}-x^2-\\frac{x}{2}+1$$"
   ]
  },
  {
   "cell_type": "code",
   "execution_count": 6,
   "id": "bb81ee0b",
   "metadata": {},
   "outputs": [
    {
     "data": {
      "text/latex": [
       "$\\displaystyle - \\frac{x \\left(x - 2\\right) \\left(x - 1\\right)}{6}$"
      ],
      "text/plain": [
       "-x*(x - 2)*(x - 1)/6"
      ]
     },
     "execution_count": 6,
     "metadata": {},
     "output_type": "execute_result"
    }
   ],
   "source": [
    "l1=(x-0)*(x-1)*(x-2)/(-1-0)/(-1-1)/(-1-2)\n",
    "l1"
   ]
  },
  {
   "cell_type": "code",
   "execution_count": 7,
   "id": "4f729326",
   "metadata": {},
   "outputs": [
    {
     "data": {
      "text/latex": [
       "$\\displaystyle - \\frac{x^{3}}{6} + \\frac{x^{2}}{2} - \\frac{x}{3}$"
      ],
      "text/plain": [
       "-x**3/6 + x**2/2 - x/3"
      ]
     },
     "execution_count": 7,
     "metadata": {},
     "output_type": "execute_result"
    }
   ],
   "source": [
    "sy.expand(l1)"
   ]
  },
  {
   "cell_type": "code",
   "execution_count": 8,
   "id": "20ecd54c",
   "metadata": {},
   "outputs": [
    {
     "data": {
      "text/latex": [
       "$\\displaystyle - \\frac{x \\left(x - 2\\right) \\left(x + 1\\right)}{2}$"
      ],
      "text/plain": [
       "-x*(x - 2)*(x + 1)/2"
      ]
     },
     "execution_count": 8,
     "metadata": {},
     "output_type": "execute_result"
    }
   ],
   "source": [
    "l2=(x-0)*(x+1)*(x-2)/(1-0)/(1+1)/(1-2)\n",
    "l2"
   ]
  },
  {
   "cell_type": "code",
   "execution_count": 9,
   "id": "96949da0",
   "metadata": {},
   "outputs": [
    {
     "data": {
      "text/latex": [
       "$\\displaystyle - \\frac{x^{3}}{2} + \\frac{x^{2}}{2} + x$"
      ],
      "text/plain": [
       "-x**3/2 + x**2/2 + x"
      ]
     },
     "execution_count": 9,
     "metadata": {},
     "output_type": "execute_result"
    }
   ],
   "source": [
    "sy.expand(l2)"
   ]
  },
  {
   "cell_type": "code",
   "execution_count": 11,
   "id": "eead9f83",
   "metadata": {},
   "outputs": [
    {
     "data": {
      "text/latex": [
       "$\\displaystyle \\frac{x \\left(x - 1\\right) \\left(x + 1\\right)}{6}$"
      ],
      "text/plain": [
       "x*(x - 1)*(x + 1)/6"
      ]
     },
     "execution_count": 11,
     "metadata": {},
     "output_type": "execute_result"
    }
   ],
   "source": [
    "l3=(x-0)*(x+1)*(x-1)/(2-0)/(2+1)/(2-1)\n",
    "l3"
   ]
  },
  {
   "cell_type": "code",
   "execution_count": 12,
   "id": "ac3e2255",
   "metadata": {},
   "outputs": [
    {
     "data": {
      "text/latex": [
       "$\\displaystyle \\frac{x^{3}}{6} - \\frac{x}{6}$"
      ],
      "text/plain": [
       "x**3/6 - x/6"
      ]
     },
     "execution_count": 12,
     "metadata": {},
     "output_type": "execute_result"
    }
   ],
   "source": [
    "sy.expand(l3)"
   ]
  },
  {
   "cell_type": "markdown",
   "id": "0986ac7e",
   "metadata": {},
   "source": [
    "Tenemos entonces\n",
    "$$l_1(x)=-\\frac{x^3}{6}+\\frac{x^2}{2}-\\frac{x}{3}$$\n",
    "$$l_2(x)=-\\frac{x^3}{2}+\\frac{x^2}{2}+x$$\n",
    "$$l_3(x)=\\frac{x^3}{6}-\\frac{x}{6}$$"
   ]
  },
  {
   "cell_type": "markdown",
   "id": "8568c199",
   "metadata": {},
   "source": [
    "El polinomio de interpolación será entonces\n",
    "$$p(x)=l_0(x)(-1)+l_1(x)(-6)+l_2(x)(4)+l_3(x)(27)=$$"
   ]
  },
  {
   "cell_type": "code",
   "execution_count": 14,
   "id": "a453bdfe",
   "metadata": {},
   "outputs": [
    {
     "data": {
      "text/latex": [
       "$\\displaystyle x \\left(x - 2\\right) \\left(x - 1\\right) - 2 x \\left(x - 2\\right) \\left(x + 1\\right) + \\frac{9 x \\left(x - 1\\right) \\left(x + 1\\right)}{2} - \\frac{\\left(x - 2\\right) \\left(x - 1\\right) \\left(x + 1\\right)}{2}$"
      ],
      "text/plain": [
       "x*(x - 2)*(x - 1) - 2*x*(x - 2)*(x + 1) + 9*x*(x - 1)*(x + 1)/2 - (x - 2)*(x - 1)*(x + 1)/2"
      ]
     },
     "execution_count": 14,
     "metadata": {},
     "output_type": "execute_result"
    }
   ],
   "source": [
    "p=l0*(-1)+l1*(-6)+l2*4+l3*27\n",
    "p"
   ]
  },
  {
   "cell_type": "code",
   "execution_count": 16,
   "id": "b03006c7",
   "metadata": {},
   "outputs": [
    {
     "data": {
      "text/latex": [
       "$\\displaystyle 3 x^{3} + 2 x - 1$"
      ],
      "text/plain": [
       "3*x**3 + 2*x - 1"
      ]
     },
     "execution_count": 16,
     "metadata": {},
     "output_type": "execute_result"
    }
   ],
   "source": [
    "sy.expand(p)"
   ]
  },
  {
   "cell_type": "markdown",
   "id": "098a7a5a",
   "metadata": {},
   "source": [
    "¿Dados $n$ puntos, el polinomio de interpolación de grado $n-1$ que pasa por dichos puntos es único? "
   ]
  },
  {
   "cell_type": "markdown",
   "id": "623b7dce",
   "metadata": {},
   "source": [
    "La respuesta es que bajo esas condiciones el polinomio de interpolación es único, es decir que no importa el método que utilicemos, si los puntos están dados el polinomio está completamente determinado."
   ]
  },
  {
   "cell_type": "markdown",
   "id": "eb31d3c0",
   "metadata": {},
   "source": [
    "Probemos la afirmación anterior\n",
    "\n",
    "Sean $p_1(x)$ y $p_2(x)$ dos polinomios de grado $n-1$ que pasan exactamente por $n$ puntos dados.\n",
    "Vamos a considerar \n",
    "$$P(x)=p_1(x)-p_2(x)$$\n",
    "De manera obligatoria tenemos\n",
    "$$P(x_i)=p_1(x_i)-p_2(x_i)=y_i-y_i=0$$"
   ]
  },
  {
   "cell_type": "markdown",
   "id": "2280e06c",
   "metadata": {},
   "source": [
    "Es decir que tenemos $n$ raices de $P(x)$ (todos los $x_i$), pero $P$ es un polinomio de grado $n-1$ y por lo tanto tiene $n-1$ raices."
   ]
  },
  {
   "cell_type": "markdown",
   "id": "bdc34145",
   "metadata": {},
   "source": [
    "Lo anterior es imposible salvo que \n",
    "$$P(x)=0, \\forall x$$"
   ]
  },
  {
   "cell_type": "markdown",
   "id": "fa712e2f",
   "metadata": {},
   "source": [
    "Y por lo cuál $p_1(x)=p_2(x)$"
   ]
  },
  {
   "cell_type": "markdown",
   "id": "dfeb9a92",
   "metadata": {},
   "source": [
    "#### Método de Newton\n"
   ]
  },
  {
   "cell_type": "markdown",
   "id": "a95b59d5",
   "metadata": {},
   "source": [
    "el método de Newton es constructivista, es decir que vamos a ir aumentando grado por grado hasta alcanzar los valores deseados\n",
    "\n",
    "$$p_0(x)=y_0$$\n",
    "Este polinomio constante pasa por el punto $(x_0,y_0)$"
   ]
  },
  {
   "cell_type": "markdown",
   "id": "585fbe4f",
   "metadata": {},
   "source": [
    "Si $p_{n-1}(x)$ pasa por los puntos $(x_i,y_i)$ para $i=0, ...,n-1$ entonces \n",
    "\n",
    "$$p_n(x)=p_{n-1}(x)+c\\prod_{i=0}^{n-1}(x-x_i)$$"
   ]
  },
  {
   "cell_type": "markdown",
   "id": "e4f69af9",
   "metadata": {},
   "source": [
    "Rem: \n",
    "$$p_n(x_i)=y_i, i=0, ...,n-1$$"
   ]
  },
  {
   "cell_type": "markdown",
   "id": "f40fb9f1",
   "metadata": {},
   "source": [
    "Y para hacer que pase por el punto $(x_n,y_n)$ debemos escoger la constante $c$ de tal forma que haga pasar exactamente por el punto deseado\n",
    "$$c=\\frac{y_n-p_{n-1}(x_n)}{\\prod_{i=0}^{n-1}(x_n-x_i)}$$"
   ]
  },
  {
   "cell_type": "markdown",
   "id": "464049a9",
   "metadata": {},
   "source": [
    "Para nuestro ejemplo tenemos\n",
    "$$p_0(x)=-1$$\n",
    "$$p_1(x)=p_0(x)+c_1(x-0)$$\n",
    "De donde \n",
    "$$c_1=(p_1(-1)-p_0(-1))/(-1-0)=\\frac{-6-(-1)}{-1}=5$$"
   ]
  },
  {
   "cell_type": "markdown",
   "id": "039993e5",
   "metadata": {},
   "source": [
    "Y tenemos\n",
    "$$p_1(x)=-1+5x=5x-1$$"
   ]
  },
  {
   "cell_type": "markdown",
   "id": "d4099df3",
   "metadata": {},
   "source": [
    "Ahora podemos hacer para $(1,4)$\n",
    "$$p_2(x)=p_1(x)+c_2(x-0)(x+1)$$"
   ]
  },
  {
   "cell_type": "markdown",
   "id": "27d52170",
   "metadata": {},
   "source": [
    "De donde \n",
    "$$c_2=\\frac{p_2(1)-p_1(1)}{(1-0)(1+1)}=\\frac{4-4}{2}=0$$"
   ]
  },
  {
   "cell_type": "markdown",
   "id": "7bcbda12",
   "metadata": {},
   "source": [
    "Es decir que \n",
    "$$p_2(x)=p_1(x)+0(x-0)(x+1)=p_1(x)=5x-1$$"
   ]
  },
  {
   "cell_type": "markdown",
   "id": "cb751dbb",
   "metadata": {},
   "source": [
    "Ahora para el  último punto $(2,27)$\n",
    "$$p_3(x)=p_2(x)+c_3(x-0)(x+1)(x-1)$$\n",
    " y tenemos\n",
    "$$c_3=\\frac{p_3(x)-p_2(x)}{x(x+1)(x-1)}=\\frac{27-9}{2*3*1}=3$$"
   ]
  },
  {
   "cell_type": "markdown",
   "id": "8d4328b5",
   "metadata": {},
   "source": [
    "y de donde \n",
    "$$p_3(x)=p_2(x)+3x(x^2-1)=5x-1+3x^3-3x=3x^3+2x-1$$"
   ]
  },
  {
   "cell_type": "markdown",
   "id": "4336e15d",
   "metadata": {},
   "source": [
    "Veamos otro ejemplo \n",
    "* $(-2,8)$, $(-1,5)$, $(0,2)$ y $(1,5)$"
   ]
  },
  {
   "cell_type": "markdown",
   "id": "06b02de4",
   "metadata": {},
   "source": [
    "Tenemos \n",
    "$$p_0(x)=8$$"
   ]
  },
  {
   "cell_type": "markdown",
   "id": "903a7cbb",
   "metadata": {},
   "source": [
    "$$p_1(x)=p_0(x)+c_1(x+2)$$"
   ]
  },
  {
   "cell_type": "markdown",
   "id": "288c4539",
   "metadata": {},
   "source": [
    "Identificamos $c_1$\n",
    "$$c_1=\\frac{p_1(x_1)-p_0(x_1)}{x_1+2}=\\frac{5-8}{-1+2}=-3$$\n",
    "Por lo cual\n",
    "$$p_1(x)=p_0(x)-3(x+2)=8-3x-6=2-3x$$"
   ]
  },
  {
   "cell_type": "markdown",
   "id": "c8121744",
   "metadata": {},
   "source": [
    "Ahora \n",
    "$$p_2(x)=p_1(x)+c_2(x+2)(x+1)$$\n",
    "y de donde \n",
    "$$c_2=\\frac{p_2(x_2)-p_1(x_2)}{(x_2+2)(x_2+1)}=\\frac{2-2}{2}=0$$"
   ]
  },
  {
   "cell_type": "markdown",
   "id": "94c6daa9",
   "metadata": {},
   "source": [
    "Y por lo tanto\n",
    "$$p_2(x)=p_1(x)+0(x^2+3x+2)=2-3x$$"
   ]
  },
  {
   "cell_type": "markdown",
   "id": "a5710bd1",
   "metadata": {},
   "source": [
    "Y finalmente tenemos\n",
    "$$p_3(x)=p_2(x)+c_3(x+2)(x+1)(x-0)$$"
   ]
  },
  {
   "cell_type": "markdown",
   "id": "61819c5d",
   "metadata": {},
   "source": [
    "De donde\n",
    "$$c_3=\\frac{p_3(x_3)-p_2(x_3)}{(x_3+2)(x_3+1)x_3}=\\frac{5-(-1)}{6}=1$$"
   ]
  },
  {
   "cell_type": "markdown",
   "id": "2c6b2a9b",
   "metadata": {},
   "source": [
    "y tenemos\n",
    "$$p_3(x)=p_2(x)+1(x(x+1)(x+2))=2-3x+(x^3+3x^2+2x)=x^3+3x^2-x+2$$"
   ]
  },
  {
   "cell_type": "markdown",
   "id": "e67a4baa",
   "metadata": {},
   "source": [
    "Rem: Si conocieramos los valores de las constantes $c_i$, podemos ir haciendo la construcción inversa.\n",
    "$$p_n(x)=p_{n-1}(x)+c_n\\prod_{i=0}^{n-1}(x-x_i)=p_{n-2}(x)+c_{n-1}\\prod_{i=0}^{n-2}(x-x_i)+c_n\\prod_{i=0}^{n-1}(x-x_i)$$"
   ]
  },
  {
   "cell_type": "markdown",
   "id": "f6f1625a",
   "metadata": {},
   "source": [
    "Pero esto podemos escribir como\n",
    "$$p_n(x)=p_{n-2}(x)+\\prod_{i=0}^{n-2}(x-x_i)(c_{n-1}+c_n(x-x_{n-1}))$$"
   ]
  },
  {
   "cell_type": "markdown",
   "id": "a75eff36",
   "metadata": {},
   "source": [
    "Si hacemos una iteración más\n",
    "$$p_n(x)=p_{n-3}(x)+\\prod_{i=0}^{n-3}(x-x_i)\\left[c_{n-2}+(x-x_{n-2})[c_{n-1}+c_n(x-x_{n-1})]\\right]$$"
   ]
  },
  {
   "cell_type": "markdown",
   "id": "1923cce9",
   "metadata": {},
   "source": [
    "Y podemos tener \n",
    "$$p_n(x)=\\sum_{i=0}^{n-1}c_i\\prod_{j=0}^{i-1}(x-x_j)$$"
   ]
  },
  {
   "cell_type": "markdown",
   "id": "84690adf",
   "metadata": {},
   "source": [
    "considerando $p_0(x)=y_0=c_0$"
   ]
  },
  {
   "cell_type": "markdown",
   "id": "6ee034fa",
   "metadata": {},
   "source": [
    "Veamos esta formulita\n"
   ]
  },
  {
   "cell_type": "markdown",
   "id": "e36ab727",
   "metadata": {},
   "source": [
    "Tenemos nosotros los valores de $c_0=8$, $c_1=-3$, $c_2=0$ y $c_3=1$"
   ]
  },
  {
   "cell_type": "markdown",
   "id": "b60fb012",
   "metadata": {},
   "source": [
    "Entonces tenemos\n",
    "* $8$\n",
    "* $8-3(x+2)=2-3x$\n",
    "* $2-3x+0(x+2)(x+1)=2-3x$\n",
    "* $2-3x+1(x+2)(x+1)x=x^3+3x^2-x+2$"
   ]
  },
  {
   "cell_type": "markdown",
   "id": "9a8e5dd8",
   "metadata": {},
   "source": [
    "* 1\n",
    "* $1(x)+0=x$\n",
    "* $x(x+1)-3=x^2+x-3$\n",
    "* $(x^2+x-3)(x+2)+8=x^3+3x^2-x-6+8=x^3+3x^2-x+2$"
   ]
  },
  {
   "cell_type": "markdown",
   "id": "be4078ab",
   "metadata": {},
   "source": [
    "Tarea: Calcular el polinomio de interpolación por los 3 métodos vistos en clase"
   ]
  },
  {
   "cell_type": "code",
   "execution_count": 1,
   "id": "6faf0074",
   "metadata": {},
   "outputs": [],
   "source": [
    "import numpy as np\n",
    "def PoliInt(x,y):\n",
    "    n=len(x)\n",
    "    A=np.zeros((n,n))\n",
    "    for i in range(n):\n",
    "        A[:,n-1-i]=x**i\n",
    "    print(A)\n",
    "    a=np.linalg.solve(A,y)\n",
    "    return a      "
   ]
  },
  {
   "cell_type": "code",
   "execution_count": 2,
   "id": "10934ed5",
   "metadata": {},
   "outputs": [
    {
     "data": {
      "text/plain": [
       "array([-1,  3,  5])"
      ]
     },
     "execution_count": 2,
     "metadata": {},
     "output_type": "execute_result"
    }
   ],
   "source": [
    "x=np.array([1,2,0])\n",
    "y=np.array([-1,3,5])\n",
    "x\n",
    "y"
   ]
  },
  {
   "cell_type": "code",
   "execution_count": 3,
   "id": "e192445f",
   "metadata": {},
   "outputs": [
    {
     "name": "stdout",
     "output_type": "stream",
     "text": [
      "[[1. 1. 1.]\n",
      " [4. 2. 1.]\n",
      " [0. 0. 1.]]\n"
     ]
    },
    {
     "data": {
      "text/plain": [
       "array([  5., -11.,   5.])"
      ]
     },
     "execution_count": 3,
     "metadata": {},
     "output_type": "execute_result"
    }
   ],
   "source": [
    "PoliInt(x,y)"
   ]
  },
  {
   "cell_type": "code",
   "execution_count": 4,
   "id": "a18cb8ca",
   "metadata": {},
   "outputs": [],
   "source": [
    "x=np.array([1,2,0])\n",
    "y=np.array([1,3,5])"
   ]
  },
  {
   "cell_type": "code",
   "execution_count": 5,
   "id": "810072a0",
   "metadata": {},
   "outputs": [
    {
     "name": "stdout",
     "output_type": "stream",
     "text": [
      "[[1. 1. 1.]\n",
      " [4. 2. 1.]\n",
      " [0. 0. 1.]]\n"
     ]
    },
    {
     "data": {
      "text/plain": [
       "array([ 3., -7.,  5.])"
      ]
     },
     "execution_count": 5,
     "metadata": {},
     "output_type": "execute_result"
    }
   ],
   "source": [
    "PoliInt(x,y)"
   ]
  },
  {
   "cell_type": "code",
   "execution_count": 6,
   "id": "4b28e878",
   "metadata": {},
   "outputs": [],
   "source": [
    "x=np.array([1,2,0,3])\n",
    "y=np.array([-1,3,5,4])"
   ]
  },
  {
   "cell_type": "code",
   "execution_count": 7,
   "id": "28bae52e",
   "metadata": {},
   "outputs": [
    {
     "name": "stdout",
     "output_type": "stream",
     "text": [
      "[[ 1.  1.  1.  1.]\n",
      " [ 8.  4.  2.  1.]\n",
      " [ 0.  0.  0.  1.]\n",
      " [27.  9.  3.  1.]]\n"
     ]
    },
    {
     "data": {
      "text/plain": [
       "array([ -2.16666667,  11.5       , -15.33333333,   5.        ])"
      ]
     },
     "execution_count": 7,
     "metadata": {},
     "output_type": "execute_result"
    }
   ],
   "source": [
    "PoliInt(x,y)"
   ]
  },
  {
   "cell_type": "code",
   "execution_count": null,
   "id": "bd6a972c",
   "metadata": {},
   "outputs": [],
   "source": []
  }
 ],
 "metadata": {
  "kernelspec": {
   "display_name": "Python 3",
   "language": "python",
   "name": "python3"
  },
  "language_info": {
   "codemirror_mode": {
    "name": "ipython",
    "version": 3
   },
   "file_extension": ".py",
   "mimetype": "text/x-python",
   "name": "python",
   "nbconvert_exporter": "python",
   "pygments_lexer": "ipython3",
   "version": "3.8.8"
  }
 },
 "nbformat": 4,
 "nbformat_minor": 5
}
